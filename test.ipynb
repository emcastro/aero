{
 "cells": [
  {
   "cell_type": "code",
   "execution_count": null,
   "id": "5945c37c",
   "metadata": {},
   "outputs": [],
   "source": [
    "import geopandas as gpd\n",
    "from typing import List, Tuple\n",
    "from shapely.geometry import LineString"
   ]
  },
  {
   "cell_type": "code",
   "execution_count": null,
   "id": "a5b08c4e",
   "metadata": {},
   "outputs": [],
   "source": [
    "df = gpd.read_file(\"test_zones.geojson\") "
   ]
  },
  {
   "cell_type": "code",
   "execution_count": null,
   "id": "c1704d30",
   "metadata": {},
   "outputs": [],
   "source": [
    "df"
   ]
  },
  {
   "cell_type": "code",
   "execution_count": null,
   "id": "c3c4c787",
   "metadata": {},
   "outputs": [],
   "source": [
    "import matplotlib.pyplot as plt\n",
    "\n",
    "fig, ax = plt.subplots(figsize=(8, 6))\n",
    "df.plot(ax=ax, color='lightblue', edgecolor='black')\n",
    "\n",
    "for idx, row in df.iterrows():\n",
    "    x, y = row['geometry'].centroid.x, row['geometry'].centroid.y\n",
    "    ax.text(x, y, str(row['id']), fontsize=12, ha='center', va='center', color='red')\n",
    "\n",
    "plt.show()"
   ]
  },
  {
   "cell_type": "code",
   "execution_count": null,
   "id": "e66f1c5c",
   "metadata": {},
   "outputs": [],
   "source": [
    "[geom] = df[df.id==6].geometry\n",
    "geom"
   ]
  },
  {
   "cell_type": "code",
   "execution_count": null,
   "id": "54df2d2f",
   "metadata": {},
   "outputs": [],
   "source": [
    "points = list(geom.exterior.coords)\n",
    "assert points[0] == points[-1]"
   ]
  },
  {
   "cell_type": "code",
   "execution_count": null,
   "id": "e989b74d",
   "metadata": {},
   "outputs": [],
   "source": [
    "ys = [y for x, y in points]\n",
    "xs = [x for x, y in points]\n",
    "\n",
    "bbox = (min(xs), min(ys), max(xs), max(ys))"
   ]
  },
  {
   "cell_type": "code",
   "execution_count": null,
   "id": "fd3c69e9",
   "metadata": {},
   "outputs": [],
   "source": [
    "bbox"
   ]
  },
  {
   "cell_type": "code",
   "execution_count": null,
   "id": "38d78ab0",
   "metadata": {},
   "outputs": [],
   "source": [
    "minus_inf = float('-inf')\n",
    "plus_inf = float('inf')\n",
    "\n",
    "def argminmax(items: List[float]):\n",
    "    idx_min = -1\n",
    "    max = minus_inf\n",
    "    idx_max = -1\n",
    "    min = plus_inf\n",
    "    for i, item in enumerate(items):\n",
    "        if item > max:\n",
    "            max = item\n",
    "            idx_min = i\n",
    "        if item < min:\n",
    "            min = item\n",
    "            idx_max = i\n",
    "    return idx_min, idx_max"
   ]
  },
  {
   "cell_type": "code",
   "execution_count": null,
   "id": "39bb3603",
   "metadata": {},
   "outputs": [],
   "source": [
    "idx_min, idx_max = argminmax(ys)\n",
    "idx_min, idx_max"
   ]
  },
  {
   "cell_type": "code",
   "execution_count": null,
   "id": "0dfc3ed9",
   "metadata": {},
   "outputs": [],
   "source": [
    "def poly_left_right(points: List[Tuple[float, float]]):\n",
    "    ys = [y for x, y in points]\n",
    "    idx_min, idx_max = argminmax(ys)\n",
    "\n",
    "    if idx_min < idx_max:\n",
    "        points_down = points[idx_min:idx_max+1]\n",
    "        points_up = points[idx_max:]+points[1:idx_min+1]\n",
    "    else:\n",
    "        points_down = points[idx_min:]+points[1:idx_max+1]\n",
    "        points_up = points[idx_max:idx_min+1]\n",
    "\n",
    "    if points_down[0][0] < points_down[1][0]:\n",
    "        left = points_up\n",
    "        right = points_down\n",
    "    else:\n",
    "        print(\"!!!!!\")\n",
    "        left = reversed(points_down)\n",
    "        right = reversed(points_up)\n",
    "    return left, right"
   ]
  },
  {
   "cell_type": "code",
   "execution_count": null,
   "id": "7a66561a",
   "metadata": {},
   "outputs": [],
   "source": [
    "[left, right] = poly_left_right(points)\n",
    "line_left = LineString(left)\n",
    "line_right = LineString(right)\n",
    "\n",
    "display(geom)\n",
    "display(line_left)\n",
    "display(line_right)\n"
   ]
  },
  {
   "cell_type": "code",
   "execution_count": null,
   "id": "b33b6108",
   "metadata": {},
   "outputs": [],
   "source": [
    "for _, feature in df.iterrows():\n",
    "    left, right = poly_left_right(feature.geometry.exterior.coords)\n",
    "    line_left = LineString(left)\n",
    "    line_right = LineString(right)\n",
    "\n",
    "    display(feature.id)\n",
    "    display(feature.geometry)\n",
    "    display(line_left)\n",
    "    display(line_right)"
   ]
  },
  {
   "cell_type": "markdown",
   "id": "81088be2",
   "metadata": {},
   "source": [
    "TODO\n",
    "* Bounding box\n",
    "* Liste des tuiles\n",
    "* Analyse left-right dans chaque tuile"
   ]
  },
  {
   "cell_type": "markdown",
   "id": "4c198368",
   "metadata": {},
   "source": []
  }
 ],
 "metadata": {
  "kernelspec": {
   "display_name": "aero",
   "language": "python",
   "name": "python3"
  },
  "language_info": {
   "codemirror_mode": {
    "name": "ipython",
    "version": 3
   },
   "file_extension": ".py",
   "mimetype": "text/x-python",
   "name": "python",
   "nbconvert_exporter": "python",
   "pygments_lexer": "ipython3",
   "version": "3.12.3"
  }
 },
 "nbformat": 4,
 "nbformat_minor": 5
}
